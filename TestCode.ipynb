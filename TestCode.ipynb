{
 "cells": [
  {
   "cell_type": "code",
   "execution_count": 1,
   "metadata": {},
   "outputs": [
    {
     "name": "stdout",
     "output_type": "stream",
     "text": [
      "LICENSE            \u001b[34m__pycache__\u001b[m\u001b[m/       preprocess_data.m\r\n",
      "README.md          evaluate.py        train.py\r\n",
      "TestCode.ipynb     model.py           utils.py\r\n"
     ]
    }
   ],
   "source": [
    "ls"
   ]
  },
  {
   "cell_type": "code",
   "execution_count": 3,
   "metadata": {},
   "outputs": [
    {
     "name": "stdout",
     "output_type": "stream",
     "text": [
      "Pre-training with MSE loss\n",
      "/tmp/pip-req-build-9oilk29k/aten/src/ATen/native/LegacyDefinitions.cpp:54: UserWarning: masked_scatter_ received a mask with dtype torch.uint8, this behavior is now deprecated,please use a mask with dtype torch.bool instead.\n",
      "/tmp/pip-req-build-9oilk29k/aten/src/ATen/native/LegacyDefinitions.cpp:67: UserWarning: masked_select received a mask with dtype torch.uint8, this behavior is now deprecated,please use a mask with dtype torch.bool instead.\n",
      "/tmp/pip-req-build-9oilk29k/aten/src/ATen/native/LegacyDefinitions.cpp:54: UserWarning: masked_scatter_ received a mask with dtype torch.uint8, this behavior is now deprecated,please use a mask with dtype torch.bool instead.\n",
      "/tmp/pip-req-build-9oilk29k/aten/src/ATen/native/LegacyDefinitions.cpp:67: UserWarning: masked_select received a mask with dtype torch.uint8, this behavior is now deprecated,please use a mask with dtype torch.bool instead.\n",
      "/tmp/pip-req-build-9oilk29k/aten/src/ATen/native/LegacyDefinitions.cpp:54: UserWarning: masked_scatter_ received a mask with dtype torch.uint8, this behavior is now deprecated,please use a mask with dtype torch.bool instead.\n",
      "/tmp/pip-req-build-9oilk29k/aten/src/ATen/native/LegacyDefinitions.cpp:67: UserWarning: masked_select received a mask with dtype torch.uint8, this behavior is now deprecated,please use a mask with dtype torch.bool instead.\n",
      "/tmp/pip-req-build-9oilk29k/aten/src/ATen/native/LegacyDefinitions.cpp:54: UserWarning: masked_scatter_ received a mask with dtype torch.uint8, this behavior is now deprecated,please use a mask with dtype torch.bool instead.\n",
      "/tmp/pip-req-build-9oilk29k/aten/src/ATen/native/LegacyDefinitions.cpp:67: UserWarning: masked_select received a mask with dtype torch.uint8, this behavior is now deprecated,please use a mask with dtype torch.bool instead.\n",
      "/tmp/pip-req-build-9oilk29k/aten/src/ATen/native/LegacyDefinitions.cpp:54: UserWarning: masked_scatter_ received a mask with dtype torch.uint8, this behavior is now deprecated,please use a mask with dtype torch.bool instead.\n",
      "/tmp/pip-req-build-9oilk29k/aten/src/ATen/native/LegacyDefinitions.cpp:67: UserWarning: masked_select received a mask with dtype torch.uint8, this behavior is now deprecated,please use a mask with dtype torch.bool instead.\n",
      "/tmp/pip-req-build-9oilk29k/aten/src/ATen/native/LegacyDefinitions.cpp:54: UserWarning: masked_scatter_ received a mask with dtype torch.uint8, this behavior is now deprecated,please use a mask with dtype torch.bool instead.\n",
      "/tmp/pip-req-build-9oilk29k/aten/src/ATen/native/LegacyDefinitions.cpp:67: UserWarning: masked_select received a mask with dtype torch.uint8, this behavior is now deprecated,please use a mask with dtype torch.bool instead.\n",
      "/tmp/pip-req-build-9oilk29k/aten/src/ATen/native/LegacyDefinitions.cpp:54: UserWarning: masked_scatter_ received a mask with dtype torch.uint8, this behavior is now deprecated,please use a mask with dtype torch.bool instead.\n",
      "/tmp/pip-req-build-9oilk29k/aten/src/ATen/native/LegacyDefinitions.cpp:67: UserWarning: masked_select received a mask with dtype torch.uint8, this behavior is now deprecated,please use a mask with dtype torch.bool instead.\n",
      "/tmp/pip-req-build-9oilk29k/aten/src/ATen/native/LegacyDefinitions.cpp:54: UserWarning: masked_scatter_ received a mask with dtype torch.uint8, this behavior is now deprecated,please use a mask with dtype torch.bool instead.\n",
      "/tmp/pip-req-build-9oilk29k/aten/src/ATen/native/LegacyDefinitions.cpp:67: UserWarning: masked_select received a mask with dtype torch.uint8, this behavior is now deprecated,please use a mask with dtype torch.bool instead.\n",
      "/tmp/pip-req-build-9oilk29k/aten/src/ATen/native/LegacyDefinitions.cpp:54: UserWarning: masked_scatter_ received a mask with dtype torch.uint8, this behavior is now deprecated,please use a mask with dtype torch.bool instead.\n",
      "/tmp/pip-req-build-9oilk29k/aten/src/ATen/native/LegacyDefinitions.cpp:67: UserWarning: masked_select received a mask with dtype torch.uint8, this behavior is now deprecated,please use a mask with dtype torch.bool instead.\n",
      "/tmp/pip-req-build-9oilk29k/aten/src/ATen/native/LegacyDefinitions.cpp:54: UserWarning: masked_scatter_ received a mask with dtype torch.uint8, this behavior is now deprecated,please use a mask with dtype torch.bool instead.\n",
      "/tmp/pip-req-build-9oilk29k/aten/src/ATen/native/LegacyDefinitions.cpp:67: UserWarning: masked_select received a mask with dtype torch.uint8, this behavior is now deprecated,please use a mask with dtype torch.bool instead.\n",
      "/tmp/pip-req-build-9oilk29k/aten/src/ATen/native/LegacyDefinitions.cpp:54: UserWarning: masked_scatter_ received a mask with dtype torch.uint8, this behavior is now deprecated,please use a mask with dtype torch.bool instead.\n",
      "/tmp/pip-req-build-9oilk29k/aten/src/ATen/native/LegacyDefinitions.cpp:67: UserWarning: masked_select received a mask with dtype torch.uint8, this behavior is now deprecated,please use a mask with dtype torch.bool instead.\n",
      "/tmp/pip-req-build-9oilk29k/aten/src/ATen/native/LegacyDefinitions.cpp:54: UserWarning: masked_scatter_ received a mask with dtype torch.uint8, this behavior is now deprecated,please use a mask with dtype torch.bool instead.\n",
      "/tmp/pip-req-build-9oilk29k/aten/src/ATen/native/LegacyDefinitions.cpp:67: UserWarning: masked_select received a mask with dtype torch.uint8, this behavior is now deprecated,please use a mask with dtype torch.bool instead.\n",
      "/tmp/pip-req-build-9oilk29k/aten/src/ATen/native/LegacyDefinitions.cpp:54: UserWarning: masked_scatter_ received a mask with dtype torch.uint8, this behavior is now deprecated,please use a mask with dtype torch.bool instead.\n",
      "/tmp/pip-req-build-9oilk29k/aten/src/ATen/native/LegacyDefinitions.cpp:67: UserWarning: masked_select received a mask with dtype torch.uint8, this behavior is now deprecated,please use a mask with dtype torch.bool instead.\n",
      "/tmp/pip-req-build-9oilk29k/aten/src/ATen/native/LegacyDefinitions.cpp:54: UserWarning: masked_scatter_ received a mask with dtype torch.uint8, this behavior is now deprecated,please use a mask with dtype torch.bool instead.\n",
      "/tmp/pip-req-build-9oilk29k/aten/src/ATen/native/LegacyDefinitions.cpp:67: UserWarning: masked_select received a mask with dtype torch.uint8, this behavior is now deprecated,please use a mask with dtype torch.bool instead.\n",
      "/tmp/pip-req-build-9oilk29k/aten/src/ATen/native/LegacyDefinitions.cpp:54: UserWarning: masked_scatter_ received a mask with dtype torch.uint8, this behavior is now deprecated,please use a mask with dtype torch.bool instead.\n",
      "/tmp/pip-req-build-9oilk29k/aten/src/ATen/native/LegacyDefinitions.cpp:67: UserWarning: masked_select received a mask with dtype torch.uint8, this behavior is now deprecated,please use a mask with dtype torch.bool instead.\n",
      "/tmp/pip-req-build-9oilk29k/aten/src/ATen/native/LegacyDefinitions.cpp:54: UserWarning: masked_scatter_ received a mask with dtype torch.uint8, this behavior is now deprecated,please use a mask with dtype torch.bool instead.\n",
      "/tmp/pip-req-build-9oilk29k/aten/src/ATen/native/LegacyDefinitions.cpp:67: UserWarning: masked_select received a mask with dtype torch.uint8, this behavior is now deprecated,please use a mask with dtype torch.bool instead.\n",
      "/tmp/pip-req-build-9oilk29k/aten/src/ATen/native/LegacyDefinitions.cpp:54: UserWarning: masked_scatter_ received a mask with dtype torch.uint8, this behavior is now deprecated,please use a mask with dtype torch.bool instead.\n",
      "/tmp/pip-req-build-9oilk29k/aten/src/ATen/native/LegacyDefinitions.cpp:67: UserWarning: masked_select received a mask with dtype torch.uint8, this behavior is now deprecated,please use a mask with dtype torch.bool instead.\n",
      "/tmp/pip-req-build-9oilk29k/aten/src/ATen/native/LegacyDefinitions.cpp:54: UserWarning: masked_scatter_ received a mask with dtype torch.uint8, this behavior is now deprecated,please use a mask with dtype torch.bool instead.\n",
      "/tmp/pip-req-build-9oilk29k/aten/src/ATen/native/LegacyDefinitions.cpp:67: UserWarning: masked_select received a mask with dtype torch.uint8, this behavior is now deprecated,please use a mask with dtype torch.bool instead.\n",
      "/tmp/pip-req-build-9oilk29k/aten/src/ATen/native/LegacyDefinitions.cpp:54: UserWarning: masked_scatter_ received a mask with dtype torch.uint8, this behavior is now deprecated,please use a mask with dtype torch.bool instead.\n"
     ]
    },
    {
     "name": "stdout",
     "output_type": "stream",
     "text": [
      "/tmp/pip-req-build-9oilk29k/aten/src/ATen/native/LegacyDefinitions.cpp:67: UserWarning: masked_select received a mask with dtype torch.uint8, this behavior is now deprecated,please use a mask with dtype torch.bool instead.\n",
      "/tmp/pip-req-build-9oilk29k/aten/src/ATen/native/LegacyDefinitions.cpp:54: UserWarning: masked_scatter_ received a mask with dtype torch.uint8, this behavior is now deprecated,please use a mask with dtype torch.bool instead.\n",
      "/tmp/pip-req-build-9oilk29k/aten/src/ATen/native/LegacyDefinitions.cpp:67: UserWarning: masked_select received a mask with dtype torch.uint8, this behavior is now deprecated,please use a mask with dtype torch.bool instead.\n",
      "/tmp/pip-req-build-9oilk29k/aten/src/ATen/native/LegacyDefinitions.cpp:54: UserWarning: masked_scatter_ received a mask with dtype torch.uint8, this behavior is now deprecated,please use a mask with dtype torch.bool instead.\n",
      "/tmp/pip-req-build-9oilk29k/aten/src/ATen/native/LegacyDefinitions.cpp:67: UserWarning: masked_select received a mask with dtype torch.uint8, this behavior is now deprecated,please use a mask with dtype torch.bool instead.\n",
      "/tmp/pip-req-build-9oilk29k/aten/src/ATen/native/LegacyDefinitions.cpp:54: UserWarning: masked_scatter_ received a mask with dtype torch.uint8, this behavior is now deprecated,please use a mask with dtype torch.bool instead.\n",
      "/tmp/pip-req-build-9oilk29k/aten/src/ATen/native/LegacyDefinitions.cpp:67: UserWarning: masked_select received a mask with dtype torch.uint8, this behavior is now deprecated,please use a mask with dtype torch.bool instead.\n",
      "/tmp/pip-req-build-9oilk29k/aten/src/ATen/native/LegacyDefinitions.cpp:54: UserWarning: masked_scatter_ received a mask with dtype torch.uint8, this behavior is now deprecated,please use a mask with dtype torch.bool instead.\n",
      "/tmp/pip-req-build-9oilk29k/aten/src/ATen/native/LegacyDefinitions.cpp:67: UserWarning: masked_select received a mask with dtype torch.uint8, this behavior is now deprecated,please use a mask with dtype torch.bool instead.\n",
      "/tmp/pip-req-build-9oilk29k/aten/src/ATen/native/LegacyDefinitions.cpp:54: UserWarning: masked_scatter_ received a mask with dtype torch.uint8, this behavior is now deprecated,please use a mask with dtype torch.bool instead.\n",
      "/tmp/pip-req-build-9oilk29k/aten/src/ATen/native/LegacyDefinitions.cpp:67: UserWarning: masked_select received a mask with dtype torch.uint8, this behavior is now deprecated,please use a mask with dtype torch.bool instead.\n",
      "/tmp/pip-req-build-9oilk29k/aten/src/ATen/native/LegacyDefinitions.cpp:54: UserWarning: masked_scatter_ received a mask with dtype torch.uint8, this behavior is now deprecated,please use a mask with dtype torch.bool instead.\n",
      "/tmp/pip-req-build-9oilk29k/aten/src/ATen/native/LegacyDefinitions.cpp:67: UserWarning: masked_select received a mask with dtype torch.uint8, this behavior is now deprecated,please use a mask with dtype torch.bool instead.\n",
      "/tmp/pip-req-build-9oilk29k/aten/src/ATen/native/LegacyDefinitions.cpp:54: UserWarning: masked_scatter_ received a mask with dtype torch.uint8, this behavior is now deprecated,please use a mask with dtype torch.bool instead.\n",
      "/tmp/pip-req-build-9oilk29k/aten/src/ATen/native/LegacyDefinitions.cpp:67: UserWarning: masked_select received a mask with dtype torch.uint8, this behavior is now deprecated,please use a mask with dtype torch.bool instead.\n",
      "/tmp/pip-req-build-9oilk29k/aten/src/ATen/native/LegacyDefinitions.cpp:54: UserWarning: masked_scatter_ received a mask with dtype torch.uint8, this behavior is now deprecated,please use a mask with dtype torch.bool instead.\n",
      "/tmp/pip-req-build-9oilk29k/aten/src/ATen/native/LegacyDefinitions.cpp:67: UserWarning: masked_select received a mask with dtype torch.uint8, this behavior is now deprecated,please use a mask with dtype torch.bool instead.\n",
      "/tmp/pip-req-build-9oilk29k/aten/src/ATen/native/LegacyDefinitions.cpp:54: UserWarning: masked_scatter_ received a mask with dtype torch.uint8, this behavior is now deprecated,please use a mask with dtype torch.bool instead.\n",
      "/tmp/pip-req-build-9oilk29k/aten/src/ATen/native/LegacyDefinitions.cpp:67: UserWarning: masked_select received a mask with dtype torch.uint8, this behavior is now deprecated,please use a mask with dtype torch.bool instead.\n",
      "/tmp/pip-req-build-9oilk29k/aten/src/ATen/native/LegacyDefinitions.cpp:54: UserWarning: masked_scatter_ received a mask with dtype torch.uint8, this behavior is now deprecated,please use a mask with dtype torch.bool instead.\n",
      "/tmp/pip-req-build-9oilk29k/aten/src/ATen/native/LegacyDefinitions.cpp:67: UserWarning: masked_select received a mask with dtype torch.uint8, this behavior is now deprecated,please use a mask with dtype torch.bool instead.\n",
      "/tmp/pip-req-build-9oilk29k/aten/src/ATen/native/LegacyDefinitions.cpp:54: UserWarning: masked_scatter_ received a mask with dtype torch.uint8, this behavior is now deprecated,please use a mask with dtype torch.bool instead.\n",
      "/tmp/pip-req-build-9oilk29k/aten/src/ATen/native/LegacyDefinitions.cpp:67: UserWarning: masked_select received a mask with dtype torch.uint8, this behavior is now deprecated,please use a mask with dtype torch.bool instead.\n",
      "/tmp/pip-req-build-9oilk29k/aten/src/ATen/native/LegacyDefinitions.cpp:54: UserWarning: masked_scatter_ received a mask with dtype torch.uint8, this behavior is now deprecated,please use a mask with dtype torch.bool instead.\n",
      "/tmp/pip-req-build-9oilk29k/aten/src/ATen/native/LegacyDefinitions.cpp:67: UserWarning: masked_select received a mask with dtype torch.uint8, this behavior is now deprecated,please use a mask with dtype torch.bool instead.\n",
      "/tmp/pip-req-build-9oilk29k/aten/src/ATen/native/LegacyDefinitions.cpp:54: UserWarning: masked_scatter_ received a mask with dtype torch.uint8, this behavior is now deprecated,please use a mask with dtype torch.bool instead.\n",
      "/tmp/pip-req-build-9oilk29k/aten/src/ATen/native/LegacyDefinitions.cpp:67: UserWarning: masked_select received a mask with dtype torch.uint8, this behavior is now deprecated,please use a mask with dtype torch.bool instead.\n",
      "/tmp/pip-req-build-9oilk29k/aten/src/ATen/native/LegacyDefinitions.cpp:54: UserWarning: masked_scatter_ received a mask with dtype torch.uint8, this behavior is now deprecated,please use a mask with dtype torch.bool instead.\n",
      "/tmp/pip-req-build-9oilk29k/aten/src/ATen/native/LegacyDefinitions.cpp:67: UserWarning: masked_select received a mask with dtype torch.uint8, this behavior is now deprecated,please use a mask with dtype torch.bool instead.\n",
      "/tmp/pip-req-build-9oilk29k/aten/src/ATen/native/LegacyDefinitions.cpp:54: UserWarning: masked_scatter_ received a mask with dtype torch.uint8, this behavior is now deprecated,please use a mask with dtype torch.bool instead.\n",
      "/tmp/pip-req-build-9oilk29k/aten/src/ATen/native/LegacyDefinitions.cpp:67: UserWarning: masked_select received a mask with dtype torch.uint8, this behavior is now deprecated,please use a mask with dtype torch.bool instead.\n",
      "/tmp/pip-req-build-9oilk29k/aten/src/ATen/native/LegacyDefinitions.cpp:54: UserWarning: masked_scatter_ received a mask with dtype torch.uint8, this behavior is now deprecated,please use a mask with dtype torch.bool instead.\n",
      "/tmp/pip-req-build-9oilk29k/aten/src/ATen/native/LegacyDefinitions.cpp:67: UserWarning: masked_select received a mask with dtype torch.uint8, this behavior is now deprecated,please use a mask with dtype torch.bool instead.\n",
      "/tmp/pip-req-build-9oilk29k/aten/src/ATen/native/LegacyDefinitions.cpp:54: UserWarning: masked_scatter_ received a mask with dtype torch.uint8, this behavior is now deprecated,please use a mask with dtype torch.bool instead.\n",
      "/tmp/pip-req-build-9oilk29k/aten/src/ATen/native/LegacyDefinitions.cpp:67: UserWarning: masked_select received a mask with dtype torch.uint8, this behavior is now deprecated,please use a mask with dtype torch.bool instead.\n",
      "/tmp/pip-req-build-9oilk29k/aten/src/ATen/native/LegacyDefinitions.cpp:54: UserWarning: masked_scatter_ received a mask with dtype torch.uint8, this behavior is now deprecated,please use a mask with dtype torch.bool instead.\n",
      "/tmp/pip-req-build-9oilk29k/aten/src/ATen/native/LegacyDefinitions.cpp:67: UserWarning: masked_select received a mask with dtype torch.uint8, this behavior is now deprecated,please use a mask with dtype torch.bool instead.\n"
     ]
    },
    {
     "name": "stdout",
     "output_type": "stream",
     "text": [
      "/tmp/pip-req-build-9oilk29k/aten/src/ATen/native/LegacyDefinitions.cpp:54: UserWarning: masked_scatter_ received a mask with dtype torch.uint8, this behavior is now deprecated,please use a mask with dtype torch.bool instead.\n",
      "/tmp/pip-req-build-9oilk29k/aten/src/ATen/native/LegacyDefinitions.cpp:67: UserWarning: masked_select received a mask with dtype torch.uint8, this behavior is now deprecated,please use a mask with dtype torch.bool instead.\n",
      "/tmp/pip-req-build-9oilk29k/aten/src/ATen/native/LegacyDefinitions.cpp:54: UserWarning: masked_scatter_ received a mask with dtype torch.uint8, this behavior is now deprecated,please use a mask with dtype torch.bool instead.\n",
      "/tmp/pip-req-build-9oilk29k/aten/src/ATen/native/LegacyDefinitions.cpp:67: UserWarning: masked_select received a mask with dtype torch.uint8, this behavior is now deprecated,please use a mask with dtype torch.bool instead.\n",
      "/tmp/pip-req-build-9oilk29k/aten/src/ATen/native/LegacyDefinitions.cpp:54: UserWarning: masked_scatter_ received a mask with dtype torch.uint8, this behavior is now deprecated,please use a mask with dtype torch.bool instead.\n",
      "/tmp/pip-req-build-9oilk29k/aten/src/ATen/native/LegacyDefinitions.cpp:67: UserWarning: masked_select received a mask with dtype torch.uint8, this behavior is now deprecated,please use a mask with dtype torch.bool instead.\n",
      "/tmp/pip-req-build-9oilk29k/aten/src/ATen/native/LegacyDefinitions.cpp:54: UserWarning: masked_scatter_ received a mask with dtype torch.uint8, this behavior is now deprecated,please use a mask with dtype torch.bool instead.\n",
      "/tmp/pip-req-build-9oilk29k/aten/src/ATen/native/LegacyDefinitions.cpp:67: UserWarning: masked_select received a mask with dtype torch.uint8, this behavior is now deprecated,please use a mask with dtype torch.bool instead.\n",
      "/tmp/pip-req-build-9oilk29k/aten/src/ATen/native/LegacyDefinitions.cpp:54: UserWarning: masked_scatter_ received a mask with dtype torch.uint8, this behavior is now deprecated,please use a mask with dtype torch.bool instead.\n",
      "/tmp/pip-req-build-9oilk29k/aten/src/ATen/native/LegacyDefinitions.cpp:67: UserWarning: masked_select received a mask with dtype torch.uint8, this behavior is now deprecated,please use a mask with dtype torch.bool instead.\n",
      "/tmp/pip-req-build-9oilk29k/aten/src/ATen/native/LegacyDefinitions.cpp:54: UserWarning: masked_scatter_ received a mask with dtype torch.uint8, this behavior is now deprecated,please use a mask with dtype torch.bool instead.\n",
      "/tmp/pip-req-build-9oilk29k/aten/src/ATen/native/LegacyDefinitions.cpp:67: UserWarning: masked_select received a mask with dtype torch.uint8, this behavior is now deprecated,please use a mask with dtype torch.bool instead.\n",
      "/tmp/pip-req-build-9oilk29k/aten/src/ATen/native/LegacyDefinitions.cpp:54: UserWarning: masked_scatter_ received a mask with dtype torch.uint8, this behavior is now deprecated,please use a mask with dtype torch.bool instead.\n",
      "/tmp/pip-req-build-9oilk29k/aten/src/ATen/native/LegacyDefinitions.cpp:67: UserWarning: masked_select received a mask with dtype torch.uint8, this behavior is now deprecated,please use a mask with dtype torch.bool instead.\n",
      "/tmp/pip-req-build-9oilk29k/aten/src/ATen/native/LegacyDefinitions.cpp:54: UserWarning: masked_scatter_ received a mask with dtype torch.uint8, this behavior is now deprecated,please use a mask with dtype torch.bool instead.\n",
      "/tmp/pip-req-build-9oilk29k/aten/src/ATen/native/LegacyDefinitions.cpp:67: UserWarning: masked_select received a mask with dtype torch.uint8, this behavior is now deprecated,please use a mask with dtype torch.bool instead.\n",
      "/tmp/pip-req-build-9oilk29k/aten/src/ATen/native/LegacyDefinitions.cpp:54: UserWarning: masked_scatter_ received a mask with dtype torch.uint8, this behavior is now deprecated,please use a mask with dtype torch.bool instead.\n",
      "/tmp/pip-req-build-9oilk29k/aten/src/ATen/native/LegacyDefinitions.cpp:67: UserWarning: masked_select received a mask with dtype torch.uint8, this behavior is now deprecated,please use a mask with dtype torch.bool instead.\n",
      "/tmp/pip-req-build-9oilk29k/aten/src/ATen/native/LegacyDefinitions.cpp:54: UserWarning: masked_scatter_ received a mask with dtype torch.uint8, this behavior is now deprecated,please use a mask with dtype torch.bool instead.\n",
      "/tmp/pip-req-build-9oilk29k/aten/src/ATen/native/LegacyDefinitions.cpp:67: UserWarning: masked_select received a mask with dtype torch.uint8, this behavior is now deprecated,please use a mask with dtype torch.bool instead.\n",
      "/tmp/pip-req-build-9oilk29k/aten/src/ATen/native/LegacyDefinitions.cpp:54: UserWarning: masked_scatter_ received a mask with dtype torch.uint8, this behavior is now deprecated,please use a mask with dtype torch.bool instead.\n",
      "/tmp/pip-req-build-9oilk29k/aten/src/ATen/native/LegacyDefinitions.cpp:67: UserWarning: masked_select received a mask with dtype torch.uint8, this behavior is now deprecated,please use a mask with dtype torch.bool instead.\n",
      "/tmp/pip-req-build-9oilk29k/aten/src/ATen/native/LegacyDefinitions.cpp:54: UserWarning: masked_scatter_ received a mask with dtype torch.uint8, this behavior is now deprecated,please use a mask with dtype torch.bool instead.\n",
      "/tmp/pip-req-build-9oilk29k/aten/src/ATen/native/LegacyDefinitions.cpp:67: UserWarning: masked_select received a mask with dtype torch.uint8, this behavior is now deprecated,please use a mask with dtype torch.bool instead.\n",
      "/tmp/pip-req-build-9oilk29k/aten/src/ATen/native/LegacyDefinitions.cpp:54: UserWarning: masked_scatter_ received a mask with dtype torch.uint8, this behavior is now deprecated,please use a mask with dtype torch.bool instead.\n",
      "/tmp/pip-req-build-9oilk29k/aten/src/ATen/native/LegacyDefinitions.cpp:67: UserWarning: masked_select received a mask with dtype torch.uint8, this behavior is now deprecated,please use a mask with dtype torch.bool instead.\n",
      "/tmp/pip-req-build-9oilk29k/aten/src/ATen/native/LegacyDefinitions.cpp:54: UserWarning: masked_scatter_ received a mask with dtype torch.uint8, this behavior is now deprecated,please use a mask with dtype torch.bool instead.\n",
      "/tmp/pip-req-build-9oilk29k/aten/src/ATen/native/LegacyDefinitions.cpp:67: UserWarning: masked_select received a mask with dtype torch.uint8, this behavior is now deprecated,please use a mask with dtype torch.bool instead.\n",
      "^C\n",
      "Traceback (most recent call last):\n",
      "  File \"train.py\", line 88, in <module>\n",
      "    fut_pred, lat_pred, lon_pred = net(hist, nbrs, mask, lat_enc, lon_enc)\n",
      "  File \"/Users/yanbing_wang/anaconda3/lib/python3.7/site-packages/torch/nn/modules/module.py\", line 541, in __call__\n",
      "    result = self.forward(*input, **kwargs)\n",
      "  File \"/Users/yanbing_wang/Documents/Research/trajectory-data/Code/conv-social-pooling/model.py\", line 112, in forward\n",
      "    fut_pred = self.decode(enc)\n",
      "  File \"/Users/yanbing_wang/Documents/Research/trajectory-data/Code/conv-social-pooling/model.py\", line 133, in decode\n",
      "    h_dec, _ = self.dec_lstm(enc)\n",
      "  File \"/Users/yanbing_wang/anaconda3/lib/python3.7/site-packages/torch/nn/modules/module.py\", line 541, in __call__\n",
      "    result = self.forward(*input, **kwargs)\n",
      "  File \"/Users/yanbing_wang/anaconda3/lib/python3.7/site-packages/torch/nn/modules/rnn.py\", line 564, in forward\n",
      "    return self.forward_tensor(input, hx)\n",
      "  File \"/Users/yanbing_wang/anaconda3/lib/python3.7/site-packages/torch/nn/modules/rnn.py\", line 543, in forward_tensor\n",
      "    output, hidden = self.forward_impl(input, hx, batch_sizes, max_batch_size, sorted_indices)\n",
      "  File \"/Users/yanbing_wang/anaconda3/lib/python3.7/site-packages/torch/nn/modules/rnn.py\", line 526, in forward_impl\n",
      "    self.dropout, self.training, self.bidirectional, self.batch_first)\n",
      "KeyboardInterrupt\n"
     ]
    }
   ],
   "source": [
    "!python train.py"
   ]
  },
  {
   "cell_type": "code",
   "execution_count": null,
   "metadata": {},
   "outputs": [],
   "source": []
  }
 ],
 "metadata": {
  "kernelspec": {
   "display_name": "Python 3",
   "language": "python",
   "name": "python3"
  },
  "language_info": {
   "codemirror_mode": {
    "name": "ipython",
    "version": 3
   },
   "file_extension": ".py",
   "mimetype": "text/x-python",
   "name": "python",
   "nbconvert_exporter": "python",
   "pygments_lexer": "ipython3",
   "version": "3.7.0"
  }
 },
 "nbformat": 4,
 "nbformat_minor": 4
}
